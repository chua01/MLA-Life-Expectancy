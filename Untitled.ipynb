{
 "cells": [
  {
   "cell_type": "code",
   "execution_count": 1,
   "id": "fd9cc13b",
   "metadata": {},
   "outputs": [
    {
     "name": "stdout",
     "output_type": "stream",
     "text": [
      "1.4.2\n"
     ]
    },
    {
     "name": "stderr",
     "output_type": "stream",
     "text": [
      "C:\\Users\\chuak\\AppData\\Local\\Temp\\ipykernel_15132\\1226997999.py:24: FutureWarning: A value is trying to be set on a copy of a DataFrame or Series through chained assignment using an inplace method.\n",
      "The behavior will change in pandas 3.0. This inplace method will never work because the intermediate object on which we are setting values always behaves as a copy.\n",
      "\n",
      "For example, when doing 'df[col].method(value, inplace=True)', try using 'df.method({col: value}, inplace=True)' or df[col] = df[col].method(value) instead, to perform the operation inplace on the original object.\n",
      "\n",
      "\n",
      "  df[col].fillna(df[col].mode()[0], inplace=True)\n"
     ]
    },
    {
     "name": "stdout",
     "output_type": "stream",
     "text": [
      "The chosen model for deployment is: Random Forest (Important Features)\n",
      "Predicted Life Expectancy: 61.743999999999986\n"
     ]
    }
   ],
   "source": [
    "import pandas as pd\n",
    "import numpy as np\n",
    "import matplotlib.pyplot as plt\n",
    "import seaborn as sns\n",
    "import sklearn\n",
    "from sklearn.model_selection import train_test_split\n",
    "from sklearn.linear_model import LinearRegression\n",
    "from sklearn.ensemble import RandomForestRegressor\n",
    "from sklearn.metrics import mean_squared_error, r2_score, precision_score, recall_score, f1_score, accuracy_score\n",
    "from category_encoders import TargetEncoder\n",
    "\n",
    "# Load the dataset\n",
    "df = pd.read_csv('led.csv')\n",
    "\n",
    "print(sklearn.__version__)\n",
    "# Handling missing values\n",
    "# Fill missing numeric values with the mean\n",
    "numeric_cols = df.select_dtypes(include=['float64', 'int64']).columns\n",
    "df[numeric_cols] = df[numeric_cols].fillna(df[numeric_cols].mean())\n",
    "\n",
    "# Fill missing categorical values with the mode\n",
    "categorical_cols = df.select_dtypes(include=['object']).columns\n",
    "for col in categorical_cols:\n",
    "    df[col].fillna(df[col].mode()[0], inplace=True)\n",
    "\n",
    "# Encode categorical features using Target Encoder\n",
    "categorical_features = ['Country']\n",
    "encoder = TargetEncoder(cols=categorical_features)\n",
    "df[categorical_features] = encoder.fit_transform(df[categorical_features], df['Lifeexpectancy'])\n",
    "\n",
    "# Define the important features\n",
    "important_rf_features = ['Country', 'Year', 'AdultMortality', 'Incomecompositionofresources', 'Schooling', 'HIV/AIDS', 'Totalexpenditure', 'Population', 'BMI', 'Measles']\n",
    "\n",
    "# Define the feature columns and target column\n",
    "X = df[important_rf_features]\n",
    "y = df['Lifeexpectancy']\n",
    "\n",
    "\n",
    "# Split the data into training and testing sets for both models\n",
    "X_train, X_test, y_train, y_test = train_test_split(X, y, test_size=0.2, random_state=42)\n",
    "\n",
    "# Random Forest Regression using all features\n",
    "rf_model = RandomForestRegressor(n_estimators=100, random_state=42)\n",
    "rf_model.fit(X_train, y_train)\n",
    "y_pred_rf = rf_model.predict(X_test)\n",
    "\n",
    "\n",
    "\n",
    "# Function to predict life expectancy based on input data\n",
    "def predict_life_expectancy(model, input_data, important_features=None):\n",
    "    if important_features:\n",
    "        input_data = input_data[important_features]\n",
    "    return model.predict(input_data)\n",
    "\n",
    "# Example usage\n",
    "example_data = {\n",
    "#     'Country': ['Afghanistan'],\n",
    "#     'Year': [2015],  # Example year value\n",
    "#     'Status': ['Developed'],\n",
    "#     'GDP': [40000],  # Example GDP value\n",
    "#     'Schooling': [15],  # Example schooling years\n",
    "#     'Incomecompositionofresources': [0.8]  # Example value\n",
    "    'Country': ['Afghanistan'], \n",
    "    'Year': [2015], \n",
    "    'AdultMortality': [263], \n",
    "    'Incomecompositionofresources': [0.479], \n",
    "    'Schooling': [10.0], \n",
    "    'HIV/AIDS': [0.1], \n",
    "    'Totalexpenditure': [8.61], \n",
    "    'Population': [25921], \n",
    "    'BMI': [19.1], \n",
    "    'Measles': [1154]\n",
    "}\n",
    "\n",
    "\n",
    "input_data = pd.DataFrame(example_data)\n",
    "input_data[categorical_features] = encoder.transform(input_data[categorical_features])\n",
    "\n",
    "\n",
    "prediction = predict_life_expectancy(rf_model, input_data, important_rf_features)\n",
    "chosen_model = \"Random Forest (Important Features)\"\n",
    "    \n",
    "# # Predict using the chosen model\n",
    "# if r2_score(y_test, y_pred_rf) > r2_score(y_important_test, y_pred_lr):\n",
    "#     prediction = predict_life_expectancy(rf_model_important, input_data, important_rf_features)\n",
    "#     chosen_model = \"Random Forest (Important Features)\"\n",
    "# else:\n",
    "#     prediction = predict_life_expectancy(lr_model, input_data, important_features)\n",
    "#     chosen_model = \"Linear Regression\"\n",
    "\n",
    "print(f\"The chosen model for deployment is: {chosen_model}\")\n",
    "print(f\"Predicted Life Expectancy: {prediction[0]}\")\n"
   ]
  },
  {
   "cell_type": "code",
   "execution_count": 2,
   "id": "eee58779",
   "metadata": {},
   "outputs": [
    {
     "data": {
      "text/plain": [
       "['encoder.pkl']"
      ]
     },
     "execution_count": 2,
     "metadata": {},
     "output_type": "execute_result"
    }
   ],
   "source": [
    "import joblib\n",
    "\n",
    "# Save the models\n",
    "# joblib.dump(lr_model, 'lr_model.pkl')\n",
    "joblib.dump(rf_model, 'rf_model.pkl')\n",
    "joblib.dump(encoder, 'encoder.pkl')"
   ]
  },
  {
   "cell_type": "code",
   "execution_count": null,
   "id": "afb4781a",
   "metadata": {},
   "outputs": [],
   "source": []
  },
  {
   "cell_type": "code",
   "execution_count": null,
   "id": "6326f3e5",
   "metadata": {},
   "outputs": [],
   "source": []
  },
  {
   "cell_type": "code",
   "execution_count": null,
   "id": "5cbac620",
   "metadata": {},
   "outputs": [],
   "source": []
  }
 ],
 "metadata": {
  "kernelspec": {
   "display_name": "Python 3 (ipykernel)",
   "language": "python",
   "name": "python3"
  },
  "language_info": {
   "codemirror_mode": {
    "name": "ipython",
    "version": 3
   },
   "file_extension": ".py",
   "mimetype": "text/x-python",
   "name": "python",
   "nbconvert_exporter": "python",
   "pygments_lexer": "ipython3",
   "version": "3.11.5"
  }
 },
 "nbformat": 4,
 "nbformat_minor": 5
}
